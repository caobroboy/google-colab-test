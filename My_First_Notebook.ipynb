{
  "nbformat": 4,
  "nbformat_minor": 0,
  "metadata": {
    "colab": {
      "name": "My-First-Notebook.ipynb",
      "provenance": [],
      "toc_visible": true,
      "authorship_tag": "ABX9TyPo596C2O5WEq3T77GQ4yGC",
      "include_colab_link": true
    },
    "kernelspec": {
      "name": "python3",
      "display_name": "Python 3"
    }
  },
  "cells": [
    {
      "cell_type": "markdown",
      "metadata": {
        "id": "view-in-github",
        "colab_type": "text"
      },
      "source": [
        "<a href=\"https://colab.research.google.com/github/caobroboy/google-colab-test/blob/main/My_First_Notebook.ipynb\" target=\"_parent\"><img src=\"https://colab.research.google.com/assets/colab-badge.svg\" alt=\"Open In Colab\"/></a>"
      ]
    },
    {
      "cell_type": "code",
      "metadata": {
        "id": "zcpBhGPMp6l_"
      },
      "source": [
        "import pandas as pd\n",
        "import seaborn as sns\n",
        "import numpy as np\n",
        "from sklearn import svm\n",
        "import matplotlib.pyplot as plt"
      ],
      "execution_count": null,
      "outputs": []
    },
    {
      "cell_type": "code",
      "metadata": {
        "id": "XE4cmQ0GqQMn",
        "outputId": "f8aeb929-5d5f-4796-845a-7cbcf3ba3d52",
        "colab": {
          "base_uri": "https://localhost:8080/",
          "height": 34
        }
      },
      "source": [
        "! pip install py3dmol"
      ],
      "execution_count": null,
      "outputs": [
        {
          "output_type": "stream",
          "text": [
            "Requirement already satisfied: py3dmol in /usr/local/lib/python3.6/dist-packages (0.8.1)\n"
          ],
          "name": "stdout"
        }
      ]
    },
    {
      "cell_type": "code",
      "metadata": {
        "id": "tZSOzjBcqZ0h",
        "outputId": "eb5a891d-4380-43ea-9152-da3382ee1aa6",
        "colab": {
          "base_uri": "https://localhost:8080/",
          "height": 514
        }
      },
      "source": [
        "import py3Dmol\n",
        "p = py3Dmol.view(query='mmtf:lycr')\n",
        "p.setStyle({'cartoon': {'color':'spectrum'}})"
      ],
      "execution_count": null,
      "outputs": [
        {
          "output_type": "display_data",
          "data": {
            "application/3dmoljs_load.v0": "<div id=\"3dmolviewer_16016481678123376\"  style=\"position: relative; width: 640px; height: 480px\">\n        <p id=\"3dmolwarning_16016481678123376\" style=\"background-color:#ffcccc;color:black\">You appear to be running in JupyterLab (or JavaScript failed to load for some other reason).  You need to install the 3dmol extension: <br>\n        <tt>jupyter labextension install jupyterlab_3dmol</tt></p>\n        </div>\n<script>\n\nvar loadScriptAsync = function(uri){\n  return new Promise((resolve, reject) => {\n    var tag = document.createElement('script');\n    tag.src = uri;\n    tag.async = true;\n    tag.onload = () => {\n      resolve();\n    };\n  var firstScriptTag = document.getElementsByTagName('script')[0];\n  firstScriptTag.parentNode.insertBefore(tag, firstScriptTag);\n});\n};\n\nif(typeof $3Dmolpromise === 'undefined') {\n$3Dmolpromise = null;\n  $3Dmolpromise = loadScriptAsync('https://3dmol.org/build/3Dmol.js');\n}\n\nvar viewer_16016481678123376 = null;\nvar warn = document.getElementById(\"3dmolwarning_16016481678123376\");\nif(warn) {\n    warn.parentNode.removeChild(warn);\n}\n$3Dmolpromise.then(function() {\nviewer_16016481678123376 = $3Dmol.createViewer($(\"#3dmolviewer_16016481678123376\"),{backgroundColor:\"white\"});\n$3Dmol.download(\"mmtf:lycr\", viewer_16016481678123376, {}, function() {\n\tviewer_16016481678123376.setStyle({\"cartoon\": {\"color\": \"spectrum\"}});\nviewer_16016481678123376.render();\n})\n});\n</script>",
            "text/html": [
              "<div id=\"3dmolviewer_16016481678123376\"  style=\"position: relative; width: 640px; height: 480px\">\n",
              "        <p id=\"3dmolwarning_16016481678123376\" style=\"background-color:#ffcccc;color:black\">You appear to be running in JupyterLab (or JavaScript failed to load for some other reason).  You need to install the 3dmol extension: <br>\n",
              "        <tt>jupyter labextension install jupyterlab_3dmol</tt></p>\n",
              "        </div>\n",
              "<script>\n",
              "\n",
              "var loadScriptAsync = function(uri){\n",
              "  return new Promise((resolve, reject) => {\n",
              "    var tag = document.createElement('script');\n",
              "    tag.src = uri;\n",
              "    tag.async = true;\n",
              "    tag.onload = () => {\n",
              "      resolve();\n",
              "    };\n",
              "  var firstScriptTag = document.getElementsByTagName('script')[0];\n",
              "  firstScriptTag.parentNode.insertBefore(tag, firstScriptTag);\n",
              "});\n",
              "};\n",
              "\n",
              "if(typeof $3Dmolpromise === 'undefined') {\n",
              "$3Dmolpromise = null;\n",
              "  $3Dmolpromise = loadScriptAsync('https://3dmol.org/build/3Dmol.js');\n",
              "}\n",
              "\n",
              "var viewer_16016481678123376 = null;\n",
              "var warn = document.getElementById(\"3dmolwarning_16016481678123376\");\n",
              "if(warn) {\n",
              "    warn.parentNode.removeChild(warn);\n",
              "}\n",
              "$3Dmolpromise.then(function() {\n",
              "viewer_16016481678123376 = $3Dmol.createViewer($(\"#3dmolviewer_16016481678123376\"),{backgroundColor:\"white\"});\n",
              "$3Dmol.download(\"mmtf:lycr\", viewer_16016481678123376, {}, function() {\n",
              "\tviewer_16016481678123376.setStyle({\"cartoon\": {\"color\": \"spectrum\"}});\n",
              "viewer_16016481678123376.render();\n",
              "})\n",
              "});\n",
              "</script>"
            ]
          },
          "metadata": {
            "tags": []
          }
        },
        {
          "output_type": "execute_result",
          "data": {
            "text/plain": [
              "<py3Dmol.view at 0x7ff7fde7dbe0>"
            ]
          },
          "metadata": {
            "tags": []
          },
          "execution_count": 19
        }
      ]
    },
    {
      "cell_type": "markdown",
      "metadata": {
        "id": "XBvFDwufk0G9"
      },
      "source": [
        "# Heading 1\n",
        "This represents the contents of heading 1."
      ]
    },
    {
      "cell_type": "code",
      "metadata": {
        "id": "t4pVfvwojMA3"
      },
      "source": [
        "Example test goes here. Blah blah blah\n"
      ],
      "execution_count": null,
      "outputs": []
    },
    {
      "cell_type": "code",
      "metadata": {
        "id": "NLg98T77k-_E"
      },
      "source": [
        "a = 1"
      ],
      "execution_count": null,
      "outputs": []
    },
    {
      "cell_type": "code",
      "metadata": {
        "id": "rg4gGlbRlKCJ"
      },
      "source": [
        "b = \"data\""
      ],
      "execution_count": null,
      "outputs": []
    },
    {
      "cell_type": "code",
      "metadata": {
        "id": "5ZiEGjuclK1m"
      },
      "source": [
        "c =[1,2,3,4,5]"
      ],
      "execution_count": null,
      "outputs": []
    },
    {
      "cell_type": "code",
      "metadata": {
        "id": "THd-Bu-bmAVi"
      },
      "source": [
        "d = ['Lebron', 'Michael', 'Shaq', 'Russel', 'Anthony']"
      ],
      "execution_count": null,
      "outputs": []
    },
    {
      "cell_type": "code",
      "metadata": {
        "id": "kKBeCHJClQ4P",
        "outputId": "df169dd1-4828-4046-cc28-cc157cbc83dc",
        "colab": {
          "base_uri": "https://localhost:8080/",
          "height": 102
        }
      },
      "source": [
        "for i,j in zip(c,d):\n",
        "  if i == 1:\n",
        "    print(j + ' has ' + str(i) + ' car.')\n",
        "  else:\n",
        "    print(j + ' has ' + str(i) + ' cars.')"
      ],
      "execution_count": null,
      "outputs": [
        {
          "output_type": "stream",
          "text": [
            "Lebron has 1 car.\n",
            "Michael has 2 cars.\n",
            "Shaq has 3 cars.\n",
            "Russel has 4 cars.\n",
            "Anthony has 5 cars.\n"
          ],
          "name": "stdout"
        }
      ]
    },
    {
      "cell_type": "markdown",
      "metadata": {
        "id": "adv3W06_mdk-"
      },
      "source": [
        "## Heading 2\n",
        "This represents the contents of heading 2."
      ]
    },
    {
      "cell_type": "code",
      "metadata": {
        "id": "IZ9zgBGFmeid"
      },
      "source": [
        "var1 = 2"
      ],
      "execution_count": null,
      "outputs": []
    },
    {
      "cell_type": "markdown",
      "metadata": {
        "id": "1F3hnWFomxz6"
      },
      "source": [
        "### Heading 3\n",
        "This represents the contents of heading 3."
      ]
    }
  ]
}